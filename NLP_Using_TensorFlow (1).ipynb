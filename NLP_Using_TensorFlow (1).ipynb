{
  "nbformat": 4,
  "nbformat_minor": 0,
  "metadata": {
    "kernelspec": {
      "display_name": "Python 3",
      "language": "python",
      "name": "python3"
    },
    "language_info": {
      "codemirror_mode": {
        "name": "ipython",
        "version": 3
      },
      "file_extension": ".py",
      "mimetype": "text/x-python",
      "name": "python",
      "nbconvert_exporter": "python",
      "pygments_lexer": "ipython3",
      "version": "3.7.9"
    },
    "colab": {
      "name": "NLP Using TensorFlow.ipynb",
      "provenance": [],
      "collapsed_sections": []
    }
  },
  "cells": [
    {
      "cell_type": "markdown",
      "metadata": {
        "id": "h8C5sz8YTq9f"
      },
      "source": [
        "Info"
      ]
    },
    {
      "cell_type": "code",
      "metadata": {
        "id": "jmMCs3FoRRo2"
      },
      "source": [
        "#Name of the Project: Real or Not? NLP with Disaster Tweets\n",
        "#Data extracted from:https://www.kaggle.com/c/nlp-getting-started\n",
        "#With this model we want to deploy a nlp text classifier model using tensor flow \n",
        "#I worked(github.com/albertodiaz-dev) in this project together with the help of (github.com/NMedinaV)"
      ],
      "execution_count": 34,
      "outputs": []
    },
    {
      "cell_type": "markdown",
      "metadata": {
        "id": "b1agEu96Tf6o"
      },
      "source": [
        "Intro \n"
      ]
    },
    {
      "cell_type": "code",
      "metadata": {
        "id": "8k3fXcQFTX6M"
      },
      "source": [
        "#Twitter has become an important communication channel in times of emergency.\n",
        "#The ubiquitousness of smartphones enables people to announce an emergency they’re observing in real-time. \n",
        "#Because of this, more agencies are interested in programatically monitoring Twitter (i.e. disaster relief organizations and news agencies)."
      ],
      "execution_count": 35,
      "outputs": []
    },
    {
      "cell_type": "code",
      "metadata": {
        "id": "59Im5uE-ARTb"
      },
      "source": [
        "import re\n",
        "from collections import Counter\n",
        "import nltk\n",
        "from nltk.corpus import stopwords\n",
        "from nltk.corpus import stopwords\n",
        "from nltk.tokenize import word_tokenize\n",
        "from nltk.stem import WordNetLemmatizer\n",
        "import numpy as np\n",
        "import pandas as pd\n",
        "from keras.models import Sequential\n",
        "from keras.layers import Dense\n",
        "from keras.layers import LSTM\n",
        "from keras.layers.embeddings import Embedding\n",
        "from keras.preprocessing import sequence\n",
        "from keras.preprocessing.sequence import pad_sequences\n",
        "from sklearn.model_selection import train_test_split\n",
        "from tensorflow.keras.preprocessing.text import Tokenizer\n",
        "import tensorflow as tf\n",
        "from tensorflow.keras.layers import Dropout"
      ],
      "execution_count": 2,
      "outputs": []
    },
    {
      "cell_type": "code",
      "metadata": {
        "id": "eY55K5tdARTr",
        "colab": {
          "base_uri": "https://localhost:8080/"
        },
        "outputId": "e968b954-d06f-436d-f2a7-f94863708425"
      },
      "source": [
        "df_train = pd.read_csv(\"/content/train.csv\")\n",
        "df_test = pd.read_csv(\"/content/test.csv\")\n",
        "print(df_train.shape)\n",
        "print(df_test.shape)"
      ],
      "execution_count": 3,
      "outputs": [
        {
          "output_type": "stream",
          "text": [
            "(7613, 5)\n",
            "(3263, 4)\n"
          ],
          "name": "stdout"
        }
      ]
    },
    {
      "cell_type": "code",
      "metadata": {
        "id": "54Ye6pczARTz",
        "colab": {
          "base_uri": "https://localhost:8080/"
        },
        "outputId": "3bbf596f-dc9b-49d4-b415-c42b65d439cf"
      },
      "source": [
        "#check nulls in df_train\n",
        "df_train.isnull().sum()"
      ],
      "execution_count": 4,
      "outputs": [
        {
          "output_type": "execute_result",
          "data": {
            "text/plain": [
              "id             0\n",
              "keyword       61\n",
              "location    2533\n",
              "text           0\n",
              "target         0\n",
              "dtype: int64"
            ]
          },
          "metadata": {
            "tags": []
          },
          "execution_count": 4
        }
      ]
    },
    {
      "cell_type": "code",
      "metadata": {
        "id": "9Y_kRoMkART4",
        "colab": {
          "base_uri": "https://localhost:8080/"
        },
        "outputId": "ace9ab48-bce3-4bda-85ff-689843912b0e"
      },
      "source": [
        "#check nulls in df_test\n",
        "df_test.isnull().sum()"
      ],
      "execution_count": 5,
      "outputs": [
        {
          "output_type": "execute_result",
          "data": {
            "text/plain": [
              "id             0\n",
              "keyword       26\n",
              "location    1105\n",
              "text           0\n",
              "dtype: int64"
            ]
          },
          "metadata": {
            "tags": []
          },
          "execution_count": 5
        }
      ]
    },
    {
      "cell_type": "code",
      "metadata": {
        "id": "hwN_kqkyART9"
      },
      "source": [
        "#Drop column location in test and train and also drop na \n",
        "df_train = df_train.drop('location', axis=1)\n",
        "df_test = df_test.drop('location', axis=1)\n",
        "df_train = df_train.dropna()\n",
        "df_test = df_test.dropna()"
      ],
      "execution_count": 6,
      "outputs": []
    },
    {
      "cell_type": "code",
      "metadata": {
        "id": "ONJ2J6WUARUF",
        "colab": {
          "base_uri": "https://localhost:8080/"
        },
        "outputId": "b3ad7bc8-5794-407e-b12a-ccdb8fb96475"
      },
      "source": [
        "nltk.download('wordnet')\n",
        "nltk.download('stopwords')\n",
        "nltk.download('punkt')\n",
        "\n",
        "stop_words = set(stopwords.words('english'))\n",
        "lemma = WordNetLemmatizer()\n",
        "#Cleaning the tweet\n",
        "def cleanTweet(review_text):\n",
        "    review_text = re.sub(r'http\\S+', '', review_text)\n",
        "    review_text = re.sub('[^a-zA-Z]', ' ', review_text)\n",
        "    review_text = str(review_text).lower()\n",
        "    review_text = word_tokenize(review_text)\n",
        "    review_text = [item for item in review_text if item not in stop_words]\n",
        "    review_text = [lemma.lemmatize(word=w,pos='v') for w in review_text]\n",
        "    review_text = [i for i in review_text if len(i)>2]\n",
        "    review_text = ' '.join(review_text)\n",
        "    return review_text\n",
        "\n",
        "df_train['cleanTweet'] = df_train['text'].apply(cleanTweet)\n",
        "df_test['cleanTweet'] = df_test['text'].apply(cleanTweet) "
      ],
      "execution_count": 7,
      "outputs": [
        {
          "output_type": "stream",
          "text": [
            "[nltk_data] Downloading package wordnet to /root/nltk_data...\n",
            "[nltk_data]   Unzipping corpora/wordnet.zip.\n",
            "[nltk_data] Downloading package stopwords to /root/nltk_data...\n",
            "[nltk_data]   Unzipping corpora/stopwords.zip.\n",
            "[nltk_data] Downloading package punkt to /root/nltk_data...\n",
            "[nltk_data]   Unzipping tokenizers/punkt.zip.\n"
          ],
          "name": "stdout"
        }
      ]
    },
    {
      "cell_type": "code",
      "metadata": {
        "colab": {
          "base_uri": "https://localhost:8080/",
          "height": 419
        },
        "id": "oOi-3I-NPrx_",
        "outputId": "ad7f2631-1ac2-4cb1-ce28-7448fbdbb7f0"
      },
      "source": [
        "df_test"
      ],
      "execution_count": 8,
      "outputs": [
        {
          "output_type": "execute_result",
          "data": {
            "text/html": [
              "<div>\n",
              "<style scoped>\n",
              "    .dataframe tbody tr th:only-of-type {\n",
              "        vertical-align: middle;\n",
              "    }\n",
              "\n",
              "    .dataframe tbody tr th {\n",
              "        vertical-align: top;\n",
              "    }\n",
              "\n",
              "    .dataframe thead th {\n",
              "        text-align: right;\n",
              "    }\n",
              "</style>\n",
              "<table border=\"1\" class=\"dataframe\">\n",
              "  <thead>\n",
              "    <tr style=\"text-align: right;\">\n",
              "      <th></th>\n",
              "      <th>id</th>\n",
              "      <th>keyword</th>\n",
              "      <th>text</th>\n",
              "      <th>cleanTweet</th>\n",
              "    </tr>\n",
              "  </thead>\n",
              "  <tbody>\n",
              "    <tr>\n",
              "      <th>15</th>\n",
              "      <td>46</td>\n",
              "      <td>ablaze</td>\n",
              "      <td>Birmingham Wholesale Market is ablaze BBC News...</td>\n",
              "      <td>birmingham wholesale market ablaze bbc news fi...</td>\n",
              "    </tr>\n",
              "    <tr>\n",
              "      <th>16</th>\n",
              "      <td>47</td>\n",
              "      <td>ablaze</td>\n",
              "      <td>@sunkxssedharry will you wear shorts for race ...</td>\n",
              "      <td>sunkxssedharry wear short race ablaze</td>\n",
              "    </tr>\n",
              "    <tr>\n",
              "      <th>17</th>\n",
              "      <td>51</td>\n",
              "      <td>ablaze</td>\n",
              "      <td>#PreviouslyOnDoyinTv: Toke MakinwaÛªs marriag...</td>\n",
              "      <td>previouslyondoyintv toke makinwa marriage cris...</td>\n",
              "    </tr>\n",
              "    <tr>\n",
              "      <th>18</th>\n",
              "      <td>58</td>\n",
              "      <td>ablaze</td>\n",
              "      <td>Check these out: http://t.co/rOI2NSmEJJ http:/...</td>\n",
              "      <td>check nsfw</td>\n",
              "    </tr>\n",
              "    <tr>\n",
              "      <th>19</th>\n",
              "      <td>60</td>\n",
              "      <td>ablaze</td>\n",
              "      <td>PSA: IÛªm splitting my personalities.\\n\\n?? t...</td>\n",
              "      <td>psa split personalities techies follow ablaze ...</td>\n",
              "    </tr>\n",
              "    <tr>\n",
              "      <th>...</th>\n",
              "      <td>...</td>\n",
              "      <td>...</td>\n",
              "      <td>...</td>\n",
              "      <td>...</td>\n",
              "    </tr>\n",
              "    <tr>\n",
              "      <th>3247</th>\n",
              "      <td>10806</td>\n",
              "      <td>wrecked</td>\n",
              "      <td>RT CNBC '3 words from Disney CEO Bob Iger wrec...</td>\n",
              "      <td>cnbc word disney ceo bob iger wreck disney sto...</td>\n",
              "    </tr>\n",
              "    <tr>\n",
              "      <th>3248</th>\n",
              "      <td>10807</td>\n",
              "      <td>wrecked</td>\n",
              "      <td>Smackdown tyme this should put me in a good mo...</td>\n",
              "      <td>smackdown tyme put good mood since get wreck smh</td>\n",
              "    </tr>\n",
              "    <tr>\n",
              "      <th>3249</th>\n",
              "      <td>10816</td>\n",
              "      <td>wrecked</td>\n",
              "      <td>@thrillhho jsyk I haven't stopped thinking abt...</td>\n",
              "      <td>thrillhho jsyk stop think abt remus slump bath...</td>\n",
              "    </tr>\n",
              "    <tr>\n",
              "      <th>3250</th>\n",
              "      <td>10820</td>\n",
              "      <td>wrecked</td>\n",
              "      <td>@stighefootball Begovic has been garbage. He g...</td>\n",
              "      <td>stighefootball begovic garbage get wreck red b...</td>\n",
              "    </tr>\n",
              "    <tr>\n",
              "      <th>3251</th>\n",
              "      <td>10828</td>\n",
              "      <td>wrecked</td>\n",
              "      <td>Wrecked today got my hattrick ????</td>\n",
              "      <td>wreck today get hattrick</td>\n",
              "    </tr>\n",
              "  </tbody>\n",
              "</table>\n",
              "<p>3237 rows × 4 columns</p>\n",
              "</div>"
            ],
            "text/plain": [
              "         id  ...                                         cleanTweet\n",
              "15       46  ...  birmingham wholesale market ablaze bbc news fi...\n",
              "16       47  ...              sunkxssedharry wear short race ablaze\n",
              "17       51  ...  previouslyondoyintv toke makinwa marriage cris...\n",
              "18       58  ...                                         check nsfw\n",
              "19       60  ...  psa split personalities techies follow ablaze ...\n",
              "...     ...  ...                                                ...\n",
              "3247  10806  ...  cnbc word disney ceo bob iger wreck disney sto...\n",
              "3248  10807  ...   smackdown tyme put good mood since get wreck smh\n",
              "3249  10816  ...  thrillhho jsyk stop think abt remus slump bath...\n",
              "3250  10820  ...  stighefootball begovic garbage get wreck red b...\n",
              "3251  10828  ...                           wreck today get hattrick\n",
              "\n",
              "[3237 rows x 4 columns]"
            ]
          },
          "metadata": {
            "tags": []
          },
          "execution_count": 8
        }
      ]
    },
    {
      "cell_type": "code",
      "metadata": {
        "id": "JEX-3ylVYJPu"
      },
      "source": [
        "# Create a function that counts words\n",
        "def counter_word (text):\n",
        "    count = Counter()\n",
        "    for i in text.values:\n",
        "        for word in i.split():\n",
        "            count[word] += 1\n",
        "    return count"
      ],
      "execution_count": 9,
      "outputs": []
    },
    {
      "cell_type": "code",
      "metadata": {
        "id": "lbqReLxIP8f5"
      },
      "source": [
        "frases_train = df_train.cleanTweet\n",
        "oov_tok = \"<XXX>\"\n",
        "counter_train = counter_word(frases_train)\n",
        "vocab_size_train = len(counter_train)\n",
        "#(tokenizer)turn each text into either a sequence of integers or into a vector where the coefficient for each token could be binary\n",
        "tokenizer = Tokenizer(num_words=vocab_size_train, oov_token=oov_tok)\n",
        "#(fit_on_texts)Updates internal vocabulary based on a list of texts. This method creates the vocabulary index based on word frequency. \n",
        "tokenizer.fit_on_texts(frases_train) \n",
        "#(word_index)A dictionary of words and their uniquely assigned integers.\n",
        "word_index = tokenizer.word_index"
      ],
      "execution_count": 10,
      "outputs": []
    },
    {
      "cell_type": "code",
      "metadata": {
        "colab": {
          "base_uri": "https://localhost:8080/"
        },
        "id": "YV2ifGASQhMi",
        "outputId": "95b27ccf-44cb-4e73-a552-84de9cfbd1b0"
      },
      "source": [
        "# Word_count\n",
        "maxs1 = (df_train['cleanTweet'].apply(lambda x: len(str(x).split()))).max()\n",
        "maxs2 = (df_test['cleanTweet'].apply(lambda x: len(str(x).split()))).max()\n",
        "max_length = maxs1-1\n",
        "padding_type='post'\n",
        "trunc_type='post'\n",
        "\n",
        "training_size = 6090\n",
        "\n",
        "training_sentences = df_train.cleanTweet[0:training_size]\n",
        "training_labels = df_train.target[0:training_size]\n",
        "\n",
        "testing_sentences = df_train.text[training_size:]\n",
        "testing_labels = df_train.target[training_size:]\n",
        "\n",
        "\n",
        "\n",
        "#(texts_to_sequences)Transforms each text in texts to a sequence of integers. \n",
        "#So it basically takes each word in the text and replaces it with its corresponding integer value from the word_index dictionary.\n",
        "\n",
        "#(pad_sequences) is used to provide uniformity in the sentences.\n",
        "\n",
        "training_sequences = tokenizer.texts_to_sequences(training_sentences)\n",
        "training_padded = pad_sequences(training_sequences, maxlen=max_length, padding=padding_type, truncating=trunc_type)\n",
        "\n",
        "testing_sequences = tokenizer.texts_to_sequences(testing_sentences)\n",
        "testing_padded = pad_sequences(testing_sequences, maxlen=max_length, padding=padding_type, truncating=trunc_type)\n",
        "print(df_train['cleanTweet'][0:1].values)\n",
        "print(training_sequences[1])"
      ],
      "execution_count": 11,
      "outputs": [
        {
          "output_type": "stream",
          "text": [
            "['bbcmtd wholesale market ablaze']\n",
            "[230, 137, 295, 677, 990]\n"
          ],
          "name": "stdout"
        }
      ]
    },
    {
      "cell_type": "code",
      "metadata": {
        "id": "PxmtEzecARU_"
      },
      "source": [
        "X = training_padded\n",
        "y = training_labels"
      ],
      "execution_count": 12,
      "outputs": []
    },
    {
      "cell_type": "code",
      "metadata": {
        "id": "gkIZDDcp-dp_"
      },
      "source": [
        "#Create train_test_split \n",
        "X_train, X_test, y_train, y_test = train_test_split(X, y, test_size=0.33, random_state=42)\n",
        "\n",
        "\n",
        "# For a binary classification problem\n",
        "embedding_dim=32\n",
        "\n",
        "model = tf.keras.Sequential([\n",
        "    tf.keras.layers.Embedding(vocab_size_train, embedding_dim, input_length=max_length),\n",
        "    tf.keras.layers.Bidirectional(tf.keras.layers.LSTM(32)),\n",
        "    #32 is the number of outputs that is desired from that layer.The LSTM layer in a bidirectional format, means that goes in both directions.\n",
        "    tf.keras.layers.Dropout(0.4),\n",
        "    tf.keras.layers.Dense(14, activation='relu'),\n",
        "    tf.keras.layers.Dropout(0.4),\n",
        "    tf.keras.layers.Dense(1, activation='sigmoid')  # remember this is a binary clasification\n",
        "])\n",
        "model.compile(loss='binary_crossentropy',optimizer='adam',metrics=['accuracy'])\n",
        "\n"
      ],
      "execution_count": 28,
      "outputs": []
    },
    {
      "cell_type": "markdown",
      "metadata": {
        "id": "_89gg_hNARVN"
      },
      "source": [
        "**RRNN**"
      ]
    },
    {
      "cell_type": "code",
      "metadata": {
        "id": "Qalapb01ARVj",
        "colab": {
          "base_uri": "https://localhost:8080/"
        },
        "outputId": "a8a8982a-a37e-4fce-f113-d691dc3a953c"
      },
      "source": [
        "history = model.fit(X_train, y_train, epochs=10, verbose=1,validation_data=(X_test,y_test))"
      ],
      "execution_count": 29,
      "outputs": [
        {
          "output_type": "stream",
          "text": [
            "Epoch 1/10\n",
            "128/128 [==============================] - 3s 25ms/step - loss: 0.6587 - accuracy: 0.6078 - val_loss: 0.5434 - val_accuracy: 0.7721\n",
            "Epoch 2/10\n",
            "128/128 [==============================] - 2s 18ms/step - loss: 0.4087 - accuracy: 0.8390 - val_loss: 0.4880 - val_accuracy: 0.7881\n",
            "Epoch 3/10\n",
            "128/128 [==============================] - 2s 19ms/step - loss: 0.2383 - accuracy: 0.9218 - val_loss: 0.6224 - val_accuracy: 0.7692\n",
            "Epoch 4/10\n",
            "128/128 [==============================] - 3s 20ms/step - loss: 0.1442 - accuracy: 0.9547 - val_loss: 0.7048 - val_accuracy: 0.7527\n",
            "Epoch 5/10\n",
            "128/128 [==============================] - 3s 20ms/step - loss: 0.1110 - accuracy: 0.9664 - val_loss: 0.7582 - val_accuracy: 0.7507\n",
            "Epoch 6/10\n",
            "128/128 [==============================] - 2s 18ms/step - loss: 0.0854 - accuracy: 0.9743 - val_loss: 0.9446 - val_accuracy: 0.7433\n",
            "Epoch 7/10\n",
            "128/128 [==============================] - 2s 19ms/step - loss: 0.0629 - accuracy: 0.9792 - val_loss: 1.3455 - val_accuracy: 0.7597\n",
            "Epoch 8/10\n",
            "128/128 [==============================] - 2s 18ms/step - loss: 0.0512 - accuracy: 0.9804 - val_loss: 1.2341 - val_accuracy: 0.7587\n",
            "Epoch 9/10\n",
            "128/128 [==============================] - 2s 19ms/step - loss: 0.0454 - accuracy: 0.9833 - val_loss: 1.4953 - val_accuracy: 0.7398\n",
            "Epoch 10/10\n",
            "128/128 [==============================] - 2s 19ms/step - loss: 0.0436 - accuracy: 0.9824 - val_loss: 1.7274 - val_accuracy: 0.7398\n"
          ],
          "name": "stdout"
        }
      ]
    },
    {
      "cell_type": "code",
      "metadata": {
        "id": "FsjRE26bj1s6",
        "colab": {
          "base_uri": "https://localhost:8080/",
          "height": 204
        },
        "outputId": "56e995de-c4b7-4785-c984-eaf3ad6a8c94"
      },
      "source": [
        "model_loss = pd.DataFrame(model.history.history)\n",
        "model_loss.head()"
      ],
      "execution_count": 30,
      "outputs": [
        {
          "output_type": "execute_result",
          "data": {
            "text/html": [
              "<div>\n",
              "<style scoped>\n",
              "    .dataframe tbody tr th:only-of-type {\n",
              "        vertical-align: middle;\n",
              "    }\n",
              "\n",
              "    .dataframe tbody tr th {\n",
              "        vertical-align: top;\n",
              "    }\n",
              "\n",
              "    .dataframe thead th {\n",
              "        text-align: right;\n",
              "    }\n",
              "</style>\n",
              "<table border=\"1\" class=\"dataframe\">\n",
              "  <thead>\n",
              "    <tr style=\"text-align: right;\">\n",
              "      <th></th>\n",
              "      <th>loss</th>\n",
              "      <th>accuracy</th>\n",
              "      <th>val_loss</th>\n",
              "      <th>val_accuracy</th>\n",
              "    </tr>\n",
              "  </thead>\n",
              "  <tbody>\n",
              "    <tr>\n",
              "      <th>0</th>\n",
              "      <td>0.658720</td>\n",
              "      <td>0.607843</td>\n",
              "      <td>0.543427</td>\n",
              "      <td>0.772139</td>\n",
              "    </tr>\n",
              "    <tr>\n",
              "      <th>1</th>\n",
              "      <td>0.408689</td>\n",
              "      <td>0.838971</td>\n",
              "      <td>0.487995</td>\n",
              "      <td>0.788060</td>\n",
              "    </tr>\n",
              "    <tr>\n",
              "      <th>2</th>\n",
              "      <td>0.238283</td>\n",
              "      <td>0.921814</td>\n",
              "      <td>0.622364</td>\n",
              "      <td>0.769154</td>\n",
              "    </tr>\n",
              "    <tr>\n",
              "      <th>3</th>\n",
              "      <td>0.144231</td>\n",
              "      <td>0.954657</td>\n",
              "      <td>0.704812</td>\n",
              "      <td>0.752736</td>\n",
              "    </tr>\n",
              "    <tr>\n",
              "      <th>4</th>\n",
              "      <td>0.110957</td>\n",
              "      <td>0.966422</td>\n",
              "      <td>0.758177</td>\n",
              "      <td>0.750746</td>\n",
              "    </tr>\n",
              "  </tbody>\n",
              "</table>\n",
              "</div>"
            ],
            "text/plain": [
              "       loss  accuracy  val_loss  val_accuracy\n",
              "0  0.658720  0.607843  0.543427      0.772139\n",
              "1  0.408689  0.838971  0.487995      0.788060\n",
              "2  0.238283  0.921814  0.622364      0.769154\n",
              "3  0.144231  0.954657  0.704812      0.752736\n",
              "4  0.110957  0.966422  0.758177      0.750746"
            ]
          },
          "metadata": {
            "tags": []
          },
          "execution_count": 30
        }
      ]
    },
    {
      "cell_type": "code",
      "metadata": {
        "colab": {
          "base_uri": "https://localhost:8080/",
          "height": 268
        },
        "id": "Fap87c6VB3qE",
        "outputId": "1cdbe330-bf9e-4cf1-94f1-136cbcbdf03f"
      },
      "source": [
        "model_loss[['accuracy','val_accuracy']].plot();"
      ],
      "execution_count": 31,
      "outputs": [
        {
          "output_type": "display_data",
          "data": {
            "image/png": "[encoded data removed]",
            "text/plain": [
              "<Figure size 432x288 with 1 Axes>"
            ]
          },
          "metadata": {
            "tags": [],
            "needs_background": "light"
          }
        }
      ]
    },
    {
      "cell_type": "code",
      "metadata": {
        "colab": {
          "base_uri": "https://localhost:8080/",
          "height": 265
        },
        "id": "vMhvd1_WOg6r",
        "outputId": "df785fe3-7444-4041-8a92-89bf6181ba14"
      },
      "source": [
        "model_loss[['loss','val_loss']].plot();"
      ],
      "execution_count": 32,
      "outputs": [
        {
          "output_type": "display_data",
          "data": {
            "image/png": "[encoded data removed]",
            "text/plain": [
              "<Figure size 432x288 with 1 Axes>"
            ]
          },
          "metadata": {
            "tags": [],
            "needs_background": "light"
          }
        }
      ]
    }
  ]
}